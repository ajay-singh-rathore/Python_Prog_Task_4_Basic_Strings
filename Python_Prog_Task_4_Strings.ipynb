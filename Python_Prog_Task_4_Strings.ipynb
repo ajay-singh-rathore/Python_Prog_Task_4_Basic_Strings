{
  "nbformat": 4,
  "nbformat_minor": 0,
  "metadata": {
    "colab": {
      "provenance": [],
      "authorship_tag": "ABX9TyN351b1w+YsEKPHGxxXshEm",
      "include_colab_link": true
    },
    "kernelspec": {
      "name": "python3",
      "display_name": "Python 3"
    },
    "language_info": {
      "name": "python"
    }
  },
  "cells": [
    {
      "cell_type": "markdown",
      "metadata": {
        "id": "view-in-github",
        "colab_type": "text"
      },
      "source": [
        "<a href=\"https://colab.research.google.com/github/ajay-singh-rathore/Python_Prog_Task_4_Basic_Strings/blob/main/Python_Prog_Task_4_Strings.ipynb\" target=\"_parent\"><img src=\"https://colab.research.google.com/assets/colab-badge.svg\" alt=\"Open In Colab\"/></a>"
      ]
    },
    {
      "cell_type": "markdown",
      "source": [
        "### sWAP cASE\n",
        "Question Link: https://www.hackerrank.com/challenges/swap-case/problem?isFullScreen=true"
      ],
      "metadata": {
        "id": "TI5iPoiZdyrt"
      }
    },
    {
      "cell_type": "code",
      "execution_count": null,
      "metadata": {
        "id": "2o5TjCWjYemr"
      },
      "outputs": [],
      "source": [
        "def swap_case(s):\n",
        "    result = \"\"\n",
        "    for char in s:\n",
        "        if char.islower():\n",
        "            result += char.upper()\n",
        "        else:\n",
        "            result += char.lower()\n",
        "    \n",
        "    return result\n",
        "if __name__ == '__main__':\n",
        "    s = input()\n",
        "    result = swap_case(s)\n",
        "    print(result)"
      ]
    },
    {
      "cell_type": "markdown",
      "source": [
        "### String Split and Join\n",
        "Question Link: https://www.hackerrank.com/challenges/python-string-split-and-join/problem?isFullScreen=true"
      ],
      "metadata": {
        "id": "vnUS_q22eenK"
      }
    },
    {
      "cell_type": "code",
      "source": [
        "def split_and_join(line):\n",
        "    # write your code here\n",
        "    return \"-\".join(line.split(\" \"))\n",
        "\n",
        "if __name__ == '__main__':\n",
        "    line = input()\n",
        "    result = split_and_join(line)\n",
        "    print(result)"
      ],
      "metadata": {
        "id": "MQJrlGREeoMR"
      },
      "execution_count": null,
      "outputs": []
    },
    {
      "cell_type": "markdown",
      "source": [
        "### Find a String\n",
        "Question Link:https://www.hackerrank.com/challenges/find-a-string/problem?isFullScreen=true"
      ],
      "metadata": {
        "id": "ByvI2F0Xe5kU"
      }
    },
    {
      "cell_type": "code",
      "source": [
        "def count_substring(string, sub_string):\n",
        "    n = 0\n",
        "    for i in range(len(string)):\n",
        "        if string[i: i+len(sub_string)] == sub_string:\n",
        "            n+= 1\n",
        "    return n\n",
        "\n",
        "if __name__ == '__main__':\n",
        "    string = input().strip()\n",
        "    sub_string = input().strip()\n",
        "    \n",
        "    count = count_substring(string, sub_string)\n",
        "    print(count)"
      ],
      "metadata": {
        "id": "AhQ8eOpte_yD"
      },
      "execution_count": null,
      "outputs": []
    },
    {
      "cell_type": "markdown",
      "source": [
        "### String Vadilator\n",
        "Question Link : https://www.hackerrank.com/challenges/string-validators/problem?isFullScreen=true"
      ],
      "metadata": {
        "id": "3g4zzQ7yfWZj"
      }
    },
    {
      "cell_type": "code",
      "source": [
        "if __name__ == '__main__':\n",
        "    s = input()\n",
        "    print(any(i.isalnum() for i in s))\n",
        "    print(any(i.isalpha() for i in s))\n",
        "    print(any(i.isdigit() for i in s))\n",
        "    print(any(i.islower() for i in s))\n",
        "    print(any(i.isupper() for i in s))"
      ],
      "metadata": {
        "id": "7nziOgMFfcbV"
      },
      "execution_count": null,
      "outputs": []
    },
    {
      "cell_type": "markdown",
      "source": [
        "### Test Alignment\n",
        "Question Link: https://www.hackerrank.com/challenges/text-alignment/problem?isFullScreen=true"
      ],
      "metadata": {
        "id": "kByuY4eofzd_"
      }
    },
    {
      "cell_type": "code",
      "source": [
        "if __name__ == '__main__':\n",
        "    n = int(input())\n",
        "    s = ''\n",
        "    \n",
        "# Top cone\n",
        "\n",
        "for i in range(1,n*2,2):\n",
        "    s = s + (i * 'H').center(n * 2 - 1 , \" \") + '\\n'\n",
        "    \n",
        "# Top Square\n",
        "\n",
        "s1 = (n * 'H').center(n * 2 - 1 , \" \") + (n * 2 + 1) * \" \"\n",
        "\n",
        "for i in range(n + 1):\n",
        "    s = s + (2 * s1) + '\\n'\n",
        "\n",
        "# Middle line\n",
        "\n",
        "s2 = (n * 5 * 'H').center(n * 6 - 1 , \" \")\n",
        "\n",
        "for i in range(0 , n , 2):\n",
        "    s = s + s2 + '\\n'\n",
        "\n",
        "# Bottom square\n",
        "\n",
        "s3 = (n * 'H').center(n * 2 - 1 , \" \") + (n * 2 + 1) * \" \"\n",
        "\n",
        "for i in range(n + 1):\n",
        "    s = s + (2 * s3) + '\\n'\n",
        "\n",
        "# Bottom cone\n",
        "\n",
        "for i in range(n * 2 - 1 , 0 , -2):\n",
        "    s = s + (n * 4) * ' ' + (i * 'H').center(n * 2 - 1) + '\\n'\n",
        "\n",
        "print(s)"
      ],
      "metadata": {
        "id": "P6-YHFwUf4zw"
      },
      "execution_count": null,
      "outputs": []
    },
    {
      "cell_type": "markdown",
      "source": [
        "### Text Wrap\n",
        "Question Link: https://www.hackerrank.com/challenges/text-wrap/problem?isFullScreen=true"
      ],
      "metadata": {
        "id": "IQGTruEpheg6"
      }
    },
    {
      "cell_type": "code",
      "source": [
        "import textwrap\n",
        "\n",
        "def wrap(string, max_width):\n",
        "    return textwrap.fill(string,max_width)\n",
        "\n",
        "if __name__ == '__main__':\n",
        "    string, max_width = input(), int(input())\n",
        "    result = wrap(string, max_width)\n",
        "    print(result)"
      ],
      "metadata": {
        "id": "EY91Y2Fkh3qG"
      },
      "execution_count": null,
      "outputs": []
    },
    {
      "cell_type": "markdown",
      "source": [
        "### Designer Door Mat\n",
        "Question Link: https://www.hackerrank.com/challenges/designer-door-mat/problem?isFullScreen=true"
      ],
      "metadata": {
        "id": "0kDMB9_wh6sE"
      }
    },
    {
      "cell_type": "code",
      "source": [
        "# Enter your code here. Read input from STDIN. Print output to STDOUT\n",
        "n,m = map(int,input().split())\n",
        "\n",
        "if n % 2 != 0 and n >= 1:\n",
        "    m = n * 3\n",
        "    for i in range(0,int(n / 2)):\n",
        "        pattern = '.|.' * ((i * 2) + 1)\n",
        "        print(pattern.center(m,'-'))\n",
        "    print('WELCOME'.center(m,'-'))\n",
        "\n",
        "    for j in range(int(n /2 ), 0, -1):\n",
        "        pattern = '.|.' * ((j * 2) - 1)\n",
        "        print(pattern.center(m,'-'))"
      ],
      "metadata": {
        "id": "514X4vugiDPQ"
      },
      "execution_count": null,
      "outputs": []
    },
    {
      "cell_type": "markdown",
      "source": [
        "### String Formatting\n",
        "Question Link: https://www.hackerrank.com/challenges/python-string-formatting/problem?isFullScreen=true"
      ],
      "metadata": {
        "id": "wgwSU1UciTYX"
      }
    },
    {
      "cell_type": "code",
      "source": [
        "def print_formatted(number):\n",
        "    max=int(number)  \n",
        "    v=len(bin(max))-2\n",
        "    for i in range(max):\n",
        "        print(f\"{i+1:>{v}} {i+1:>{v}o} {i+1:>{v}X} {i+1:>{v}b}\")\n",
        "\n",
        "if __name__ == '__main__':\n",
        "    n = int(input())\n",
        "    print_formatted(n)"
      ],
      "metadata": {
        "id": "koUl3zNEiXpS"
      },
      "execution_count": null,
      "outputs": []
    },
    {
      "cell_type": "markdown",
      "source": [
        "### Alphabet Rangoli\n",
        "Question Link : https://www.hackerrank.com/challenges/alphabet-rangoli/problem?isFullScreen=true"
      ],
      "metadata": {
        "id": "9fzWrgdPjAkw"
      }
    },
    {
      "cell_type": "code",
      "source": [
        "import string\n",
        "\n",
        "def print_rangoli(size):\n",
        "    letters = string.ascii_lowercase[:size]\n",
        "    width = 4 * size - 3\n",
        "    \n",
        "    for i in range(size-1,0,-1):\n",
        "        line = '-'.join(letters[size - 1: i: -1] + letters[i: size])\n",
        "        print(line.center(width, '-'))\n",
        "    for i in range(size):\n",
        "        line = '-'.join(letters[size - 1: i: -1] + letters[i: size])\n",
        "        print(line.center(width, '-'))\n",
        "\n",
        "if __name__ == '__main__':\n",
        "    n = int(input())\n",
        "    print_rangoli(n)"
      ],
      "metadata": {
        "id": "T6vDf1ljjEgL"
      },
      "execution_count": null,
      "outputs": []
    },
    {
      "cell_type": "markdown",
      "source": [
        "### The Minion Game\n",
        "Question Link: https://www.hackerrank.com/challenges/the-minion-game/problem?isFullScreen=true"
      ],
      "metadata": {
        "id": "f5GpEZR5jdX-"
      }
    },
    {
      "cell_type": "code",
      "source": [
        "def minion_game(string):\n",
        "    kevin, stuart = 0, 0\n",
        "    vowels = 'AEIOU'\n",
        "    n = len(string)\n",
        "    for i, c in enumerate(string):\n",
        "        if vowels.find(c) != -1:\n",
        "            kevin += n - i\n",
        "        else:\n",
        "            stuart += n - i\n",
        "    if kevin - stuart != 0:\n",
        "        print(f'Kevin {kevin}' if kevin > stuart else f'Stuart {stuart}')\n",
        "    else:\n",
        "        print('Draw')\n",
        "\n",
        "if __name__ == '__main__':\n",
        "    s = input()\n",
        "    minion_game(s)"
      ],
      "metadata": {
        "id": "Vk8s5tUDjhRZ"
      },
      "execution_count": null,
      "outputs": []
    },
    {
      "cell_type": "markdown",
      "source": [
        "### Merge the Tools!"
      ],
      "metadata": {
        "id": "y3fA8C_zjufP"
      }
    },
    {
      "cell_type": "code",
      "source": [
        "def merge_the_tools(string, k):\n",
        "    print(*(''.join(dict.fromkeys(string[i: i + k])) for i in range(0, len(string), k)), sep='\\n')\n",
        "\n",
        "if __name__ == '__main__':\n",
        "    string, k = input(), int(input())\n",
        "    merge_the_tools(string, k)"
      ],
      "metadata": {
        "id": "wkpw9iQYjvqO"
      },
      "execution_count": null,
      "outputs": []
    },
    {
      "cell_type": "markdown",
      "source": [
        "### Capitalize!\n",
        "Question Link: https://www.hackerrank.com/challenges/capitalize/problem?isFullScreen=true"
      ],
      "metadata": {
        "id": "7MZR5mcYkmBp"
      }
    },
    {
      "cell_type": "code",
      "source": [
        "#!/bin/python3\n",
        "\n",
        "import math\n",
        "import os\n",
        "import random\n",
        "import re\n",
        "import sys\n",
        "\n",
        "# Complete the solve function below.\n",
        "def solve(s):\n",
        "    c= \"\"\n",
        "    for i in range(0,len(s)):\n",
        "        if i == 0:\n",
        "            c = c + (s[i].upper())\n",
        "        elif s[i-1] == \" \":\n",
        "            c = c + (s[i].upper())\n",
        "        else:\n",
        "            c = c + s[i]\n",
        "    return c\n",
        "\n",
        "if __name__ == '__main__':\n",
        "    fptr = open(os.environ['OUTPUT_PATH'], 'w')\n",
        "\n",
        "    s = input()\n",
        "\n",
        "    result = solve(s)\n",
        "\n",
        "    fptr.write(result + '\\n')\n",
        "\n",
        "    fptr.close()\n"
      ],
      "metadata": {
        "id": "f9sIUiPykqBA"
      },
      "execution_count": null,
      "outputs": []
    },
    {
      "cell_type": "markdown",
      "source": [
        "### What's Your Name?\n",
        "Question Link: https://www.hackerrank.com/challenges/whats-your-name/problem?isFullScreen=true "
      ],
      "metadata": {
        "id": "yu8ILJL3lMkb"
      }
    },
    {
      "cell_type": "code",
      "source": [
        "def print_full_name(first_name,last_name) :\n",
        "    print(\"Hello\",first_name,last_name+\"! You just delved into python.\")\n",
        "\n",
        "if __name__ == '__main__':\n",
        "    first_name = input()\n",
        "    last_name = input()\n",
        "    print_full_name(first_name, last_name)"
      ],
      "metadata": {
        "id": "SEV_THwklYEi"
      },
      "execution_count": null,
      "outputs": []
    },
    {
      "cell_type": "markdown",
      "source": [
        "### Mutations\n",
        "Question Link: https://www.hackerrank.com/challenges/python-mutations/problem?isFullScreen=true"
      ],
      "metadata": {
        "id": "yolBaY8-mA00"
      }
    },
    {
      "cell_type": "code",
      "source": [
        "def mutate_string(string, position, character):\n",
        "    return string[:position]+character+string[position+1:]\n",
        "if __name__ == '__main__':\n",
        "    s = input()\n",
        "    i, c = input().split()\n",
        "    s_new = mutate_string(s, int(i), c)\n",
        "    print(s_new)"
      ],
      "metadata": {
        "id": "lnEEmmx2mESu"
      },
      "execution_count": null,
      "outputs": []
    }
  ]
}